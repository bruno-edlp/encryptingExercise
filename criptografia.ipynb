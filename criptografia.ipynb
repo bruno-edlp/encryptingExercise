{
  "nbformat": 4,
  "nbformat_minor": 0,
  "metadata": {
    "colab": {
      "provenance": [],
      "authorship_tag": "ABX9TyMBaL0L7aO5dq8oBKotVmCO",
      "include_colab_link": true
    },
    "kernelspec": {
      "name": "python3",
      "display_name": "Python 3"
    },
    "language_info": {
      "name": "python"
    }
  },
  "cells": [
    {
      "cell_type": "markdown",
      "metadata": {
        "id": "view-in-github",
        "colab_type": "text"
      },
      "source": [
        "<a href=\"https://colab.research.google.com/github/bruno-edlp/encryptingExercise/blob/main/criptografia.ipynb\" target=\"_parent\"><img src=\"https://colab.research.google.com/assets/colab-badge.svg\" alt=\"Open In Colab\"/></a>"
      ]
    },
    {
      "cell_type": "code",
      "execution_count": null,
      "metadata": {
        "id": "kZdR1Rm4soTP"
      },
      "outputs": [],
      "source": [
        "#Importar as bibliotecas\n",
        "from cryptography.fernet import Fernet"
      ]
    },
    {
      "cell_type": "code",
      "source": [
        "#gerar key crypto e retornar um obj Fernet\n",
        "#Cripto ou descripto uma informação\n",
        "\n",
        "#func iniciar criptografia\n",
        "def iniciar_cripto():\n",
        "  #gerar a key crypto\n",
        "  key = Fernet.generate_key()\n",
        "  #gerar cifra(obj) p/ crypto com a key\n",
        "  cipher = Fernet(key)\n",
        "  return cipher\n",
        "\n",
        "#func para criptografar\n",
        "def criptografar_senhas(cipher, senha):\n",
        "  return cipher.encrypt(senha.encode())\n",
        "\n",
        "#func descriptografar\n",
        "def descriptografar_senhas(cipher, senha_criptografado):\n",
        "  return cipher.decrypt(senha_criptografado).decode()\n",
        "\n",
        "#func cadastrar senha\n",
        "def cad_senha(cipher, lista_de_senhas):\n",
        "  senha = input(\"Informe sua nova senha: \")\n",
        "  #senha encrypt\n",
        "  senha_criptografado = criptografar_senhas(cipher, senha)\n",
        "  #add nova senha na lista\n",
        "  lista_de_senhas.append(senha_criptografado)\n",
        "  print(\"Senha registrada! \")"
      ],
      "metadata": {
        "id": "jEfyvdWptmZr"
      },
      "execution_count": null,
      "outputs": []
    },
    {
      "cell_type": "code",
      "source": [
        "#func principal\n",
        "#garante o fluxo do software\n",
        "\n",
        "def main():\n",
        "  #inicializar o sistema de criptografia\n",
        "  cipher = iniciar_cripto()\n",
        "\n",
        "  #criar lista de senha\n",
        "  lista_de_senhas = []\n",
        "\n",
        "  #cad senhas\n",
        "  cad_senha(cipher, lista_de_senhas)\n",
        "\n",
        "  #mostrar senhas\n",
        "  print(lista_de_senhas)\n",
        "\n",
        "  #mostrar senhas descriptografadas\n",
        "  print(descriptografar_senhas(cipher, lista_de_senhas[0]))\n",
        "\n",
        "if __name__ == \"__main__\":\n",
        "  main()"
      ],
      "metadata": {
        "colab": {
          "base_uri": "https://localhost:8080/"
        },
        "id": "5eic0H7OyvKs",
        "outputId": "9805bef7-41f3-4ce9-f193-6313e09ba91f"
      },
      "execution_count": null,
      "outputs": [
        {
          "output_type": "stream",
          "name": "stdout",
          "text": [
            "Informe sua nova senha: abc123\n",
            "Senha registrada! \n",
            "[b'gAAAAABl7kKt5755L_xFCfsVKiCBnIsYtXD0Vo-u2ElcaWAXOMIXJ5g1bebSz1-EBOKgHkeoN9IhKE3kEoMPkX4WnaFwimIP0g==']\n",
            "abc123\n"
          ]
        }
      ]
    }
  ]
}